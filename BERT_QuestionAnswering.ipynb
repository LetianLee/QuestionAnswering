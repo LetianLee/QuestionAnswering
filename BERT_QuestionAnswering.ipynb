{
 "cells": [
  {
   "cell_type": "markdown",
   "id": "614bd614",
   "metadata": {},
   "source": [
    "# BERT for Question Answering\n",
    "\n",
    "\n",
    "#### Task Description：\n",
    "Fine-tune BERT on the SQuAD v1.1 question answering task.\n",
    "\n",
    "*Example:*  \n",
    "> Context:  \n",
    "> Tom is 15 years old.   \n",
    "> \n",
    "> \n",
    "> Question:  \n",
    "> How old is Tom? \n",
    ">  \n",
    "> \n",
    "> Anwser:   \n",
    "> 15  \n",
    "\n",
    "\n",
    "#### Solution:\n",
    "This program will follow the steps:\n",
    "1. General Preparation  \n",
    "2. Data Processing \n",
    "3. Loading the Model and Optimizer  \n",
    "4. Training \n",
    "5. Testing "
   ]
  },
  {
   "cell_type": "markdown",
   "id": "f1f20fa3",
   "metadata": {},
   "source": [
    "## 1. General Preparation"
   ]
  },
  {
   "cell_type": "markdown",
   "id": "c9139d93",
   "metadata": {},
   "source": [
    "Import some common libraries."
   ]
  },
  {
   "cell_type": "code",
   "execution_count": 1,
   "id": "1b386760",
   "metadata": {},
   "outputs": [],
   "source": [
    "import time\n",
    "from tqdm import tqdm"
   ]
  },
  {
   "cell_type": "markdown",
   "id": "5f373ad3",
   "metadata": {},
   "source": [
    "Use GPU Facilities."
   ]
  },
  {
   "cell_type": "code",
   "execution_count": 2,
   "id": "f8fb2cf1",
   "metadata": {},
   "outputs": [],
   "source": [
    "import torch\n",
    "device = torch.device('cuda:1') if torch.cuda.is_available() else torch.device('cpu')"
   ]
  },
  {
   "cell_type": "markdown",
   "id": "de1bb2ea",
   "metadata": {},
   "source": [
    "## 2. Data Processing"
   ]
  },
  {
   "cell_type": "markdown",
   "id": "687c6c91",
   "metadata": {},
   "source": [
    "### 2.1 Read data from JSON files."
   ]
  },
  {
   "cell_type": "code",
   "execution_count": 3,
   "id": "7e026012",
   "metadata": {},
   "outputs": [],
   "source": [
    "import json\n",
    "from pathlib import Path\n",
    "\n",
    "def read_squad(path):\n",
    "    path = Path(path)\n",
    "    with open(path, 'rb') as f:\n",
    "        squad_dict = json.load(f)\n",
    "\n",
    "    contexts = []\n",
    "    questions = []\n",
    "    answers = []\n",
    "    for group in squad_dict['data']:\n",
    "        for passage in group['paragraphs']:\n",
    "            context = passage['context']\n",
    "            for qa in passage['qas']:\n",
    "                question = qa['question']\n",
    "                for answer in qa['answers']:\n",
    "                    contexts.append(context)\n",
    "                    questions.append(question)\n",
    "                    answers.append(answer)\n",
    "\n",
    "    return contexts, questions, answers\n",
    "\n",
    "train_contexts, train_questions, train_answers = read_squad('dataset/train-v1.1.json')\n",
    "val_contexts, val_questions, val_answers = read_squad('dataset/dev-v1.1.json')"
   ]
  },
  {
   "cell_type": "code",
   "execution_count": 4,
   "id": "833dbc40",
   "metadata": {},
   "outputs": [],
   "source": [
    "def add_end_idx(answers, contexts):\n",
    "    for answer, context in zip(answers, contexts):\n",
    "        gold_text = answer['text']\n",
    "        start_idx = answer['answer_start']\n",
    "        end_idx = start_idx + len(gold_text)\n",
    "\n",
    "        # sometimes squad answers are off by a character or two – fix this\n",
    "        if context[start_idx:end_idx] == gold_text:\n",
    "            answer['answer_end'] = end_idx\n",
    "        elif context[start_idx-1:end_idx-1] == gold_text:\n",
    "            answer['answer_start'] = start_idx - 1\n",
    "            answer['answer_end'] = end_idx - 1     # When the gold label is off by one character\n",
    "        elif context[start_idx-2:end_idx-2] == gold_text:\n",
    "            answer['answer_start'] = start_idx - 2\n",
    "            answer['answer_end'] = end_idx - 2     # When the gold label is off by two characters\n",
    "\n",
    "add_end_idx(train_answers, train_contexts)\n",
    "add_end_idx(val_answers, val_contexts)"
   ]
  },
  {
   "cell_type": "markdown",
   "id": "ae2436a6",
   "metadata": {},
   "source": [
    "Let's have a look at the first training data."
   ]
  },
  {
   "cell_type": "code",
   "execution_count": 5,
   "id": "bbe98ce0",
   "metadata": {},
   "outputs": [
    {
     "name": "stdout",
     "output_type": "stream",
     "text": [
      "Context: \n",
      "Architecturally, the school has a Catholic character. Atop the Main Building's gold dome is a golden statue of the Virgin Mary. Immediately in front of the Main Building and facing it, is a copper statue of Christ with arms upraised with the legend \"Venite Ad Me Omnes\". Next to the Main Building is the Basilica of the Sacred Heart. Immediately behind the basilica is the Grotto, a Marian place of prayer and reflection. It is a replica of the grotto at Lourdes, France where the Virgin Mary reputedly appeared to Saint Bernadette Soubirous in 1858. At the end of the main drive (and in a direct line that connects through 3 statues and the Gold Dome), is a simple, modern stone statue of Mary.\n",
      "\n",
      "Question: \n",
      "To whom did the Virgin Mary allegedly appear in 1858 in Lourdes France?\n",
      "\n",
      "Answer: Saint Bernadette Soubirous\n",
      "{'answer_start': 515, 'text': 'Saint Bernadette Soubirous', 'answer_end': 541}\n"
     ]
    }
   ],
   "source": [
    "# View the first data.\n",
    "print(u\"Context: \\n%s\\n\" % train_contexts[0])\n",
    "print(u\"Question: \\n%s\\n\" % train_questions[0])\n",
    "print(u\"Answer: %s\" % train_answers[0][\"text\"])\n",
    "print(train_answers[0])"
   ]
  },
  {
   "cell_type": "code",
   "execution_count": 6,
   "id": "8bf588d9",
   "metadata": {},
   "outputs": [],
   "source": [
    "# Choose how much data to train and test.\n",
    "train_start, train_end = 0, -1\n",
    "train_contexts = train_contexts[train_start:train_end]\n",
    "train_questions = train_questions[train_start:train_end]\n",
    "train_answers = train_answers[train_start:train_end]\n",
    "\n",
    "test_start, test_end = 0, -1\n",
    "val_contexts = val_contexts[test_start:test_end]\n",
    "val_questions = val_questions[test_start:test_end]\n",
    "val_answers = val_answers[test_start:test_end]"
   ]
  },
  {
   "cell_type": "markdown",
   "id": "0b5af101",
   "metadata": {},
   "source": [
    "### 2.2 Tokenization"
   ]
  },
  {
   "cell_type": "code",
   "execution_count": 7,
   "id": "18d007d4",
   "metadata": {},
   "outputs": [],
   "source": [
    "from transformers import BertTokenizerFast\n",
    "tokenizer = BertTokenizerFast.from_pretrained('bert-large-uncased')\n",
    "\n",
    "# Tokenization\n",
    "train_encodings = tokenizer(train_contexts, train_questions, truncation=True, padding=True)\n",
    "val_encodings = tokenizer(val_contexts, val_questions, truncation=True, padding=True)"
   ]
  },
  {
   "cell_type": "code",
   "execution_count": 8,
   "id": "7d316233",
   "metadata": {},
   "outputs": [],
   "source": [
    "def add_token_positions(encodings, answers):\n",
    "    start_positions = []\n",
    "    end_positions = []\n",
    "    for i in range(len(answers)):\n",
    "        start_positions.append(encodings.char_to_token(i, answers[i]['answer_start']))\n",
    "        end_positions.append(encodings.char_to_token(i, answers[i]['answer_end'] - 1))\n",
    "\n",
    "        # if start position is None, the answer passage has been truncated\n",
    "        if start_positions[-1] is None:\n",
    "            start_positions[-1] = tokenizer.model_max_length\n",
    "        if end_positions[-1] is None:\n",
    "            end_positions[-1] = tokenizer.model_max_length\n",
    "\n",
    "    encodings.update({'start_positions': start_positions, 'end_positions': end_positions})\n",
    "\n",
    "add_token_positions(train_encodings, train_answers)\n",
    "add_token_positions(val_encodings, val_answers)"
   ]
  },
  {
   "cell_type": "markdown",
   "id": "0869e478",
   "metadata": {},
   "source": [
    "### 2.3 Turn data into a Dataset object"
   ]
  },
  {
   "cell_type": "markdown",
   "id": "312d3885",
   "metadata": {},
   "source": [
    "Define a Dataset class."
   ]
  },
  {
   "cell_type": "code",
   "execution_count": 9,
   "id": "a163bd63",
   "metadata": {},
   "outputs": [],
   "source": [
    "class SquadDataset(torch.utils.data.Dataset):\n",
    "    def __init__(self, encodings, labels):\n",
    "        self.encodings = encodings\n",
    "        self.labels = labels\n",
    "\n",
    "    def __getitem__(self, idx):\n",
    "        item = {key: torch.tensor(val[idx]) for key, val in self.encodings.items()}\n",
    "        item['labels'] = self.labels[idx][\"text\"].lower()\n",
    "        return item\n",
    "\n",
    "    def __len__(self):\n",
    "        return len(self.labels)\n",
    "\n",
    "train_dataset = SquadDataset(train_encodings, train_answers)\n",
    "val_dataset = SquadDataset(val_encodings, val_answers)"
   ]
  },
  {
   "cell_type": "markdown",
   "id": "557eb597",
   "metadata": {},
   "source": [
    "## 3. Loading the Model and Optimizer "
   ]
  },
  {
   "cell_type": "code",
   "execution_count": 10,
   "id": "379e071d",
   "metadata": {},
   "outputs": [
    {
     "name": "stderr",
     "output_type": "stream",
     "text": [
      "Some weights of the model checkpoint at bert-large-uncased were not used when initializing BertForQuestionAnswering: ['cls.seq_relationship.bias', 'cls.predictions.transform.LayerNorm.weight', 'cls.seq_relationship.weight', 'cls.predictions.transform.dense.weight', 'cls.predictions.transform.LayerNorm.bias', 'cls.predictions.decoder.weight', 'cls.predictions.transform.dense.bias', 'cls.predictions.bias']\n",
      "- This IS expected if you are initializing BertForQuestionAnswering from the checkpoint of a model trained on another task or with another architecture (e.g. initializing a BertForSequenceClassification model from a BertForPreTraining model).\n",
      "- This IS NOT expected if you are initializing BertForQuestionAnswering from the checkpoint of a model that you expect to be exactly identical (initializing a BertForSequenceClassification model from a BertForSequenceClassification model).\n",
      "Some weights of BertForQuestionAnswering were not initialized from the model checkpoint at bert-large-uncased and are newly initialized: ['qa_outputs.bias', 'qa_outputs.weight']\n",
      "You should probably TRAIN this model on a down-stream task to be able to use it for predictions and inference.\n",
      "/home/llt/anaconda3/lib/python3.8/site-packages/transformers/optimization.py:306: FutureWarning: This implementation of AdamW is deprecated and will be removed in a future version. Use the PyTorch implementation torch.optim.AdamW instead, or set `no_deprecation_warning=True` to disable this warning\n",
      "  warnings.warn(\n"
     ]
    }
   ],
   "source": [
    "from transformers import BertForQuestionAnswering\n",
    "from transformers import AdamW\n",
    "\n",
    "# Loading the model\n",
    "model = BertForQuestionAnswering.from_pretrained(\"bert-large-uncased\")\n",
    "model.to(device)\n",
    "\n",
    "# Loading the optimizer\n",
    "optim = AdamW(model.parameters(), lr=1e-5)"
   ]
  },
  {
   "cell_type": "markdown",
   "id": "80a7f65d",
   "metadata": {},
   "source": [
    "## 4. Training"
   ]
  },
  {
   "cell_type": "markdown",
   "id": "0d3ab5af",
   "metadata": {},
   "source": [
    "Prepare some utility functions."
   ]
  },
  {
   "cell_type": "code",
   "execution_count": 11,
   "id": "5829c68a",
   "metadata": {},
   "outputs": [],
   "source": [
    "# Prediction function\n",
    "def predict(inputs, outputs):\n",
    "    answer_start_index = torch.argmax(outputs.start_logits, dim=1)\n",
    "    answer_end_index = torch.argmax(outputs.end_logits, dim=1)\n",
    "    predict_answer_tokens = [inputs[\"input_ids\"][i][answer_start_index[i] : answer_end_index[i] + 1] for i in range(len(inputs[\"input_ids\"]))]\n",
    "    predictions = [tokenizer.decode(tokens) for tokens in predict_answer_tokens]\n",
    "    return predictions"
   ]
  },
  {
   "cell_type": "markdown",
   "id": "2912fcb7",
   "metadata": {},
   "source": [
    "Train the model."
   ]
  },
  {
   "cell_type": "code",
   "execution_count": 12,
   "id": "dc58bab4",
   "metadata": {
    "scrolled": false
   },
   "outputs": [
    {
     "name": "stdout",
     "output_type": "stream",
     "text": [
      "Epoch 1/5\n"
     ]
    },
    {
     "name": "stderr",
     "output_type": "stream",
     "text": [
      "100%|██████████| 10950/10950 [2:52:51<00:00,  1.06it/s, Loss=1.284, Accuracy=0.475] \n"
     ]
    },
    {
     "name": "stdout",
     "output_type": "stream",
     "text": [
      "Epoch 2/5\n"
     ]
    },
    {
     "name": "stderr",
     "output_type": "stream",
     "text": [
      "100%|██████████| 10950/10950 [2:52:20<00:00,  1.06it/s, Loss=0.785, Accuracy=0.580] \n"
     ]
    },
    {
     "name": "stdout",
     "output_type": "stream",
     "text": [
      "Epoch 3/5\n"
     ]
    },
    {
     "name": "stderr",
     "output_type": "stream",
     "text": [
      "100%|██████████| 10950/10950 [2:52:34<00:00,  1.06it/s, Loss=1.141, Accuracy=0.636]\n"
     ]
    },
    {
     "name": "stdout",
     "output_type": "stream",
     "text": [
      "Epoch 4/5\n"
     ]
    },
    {
     "name": "stderr",
     "output_type": "stream",
     "text": [
      "100%|██████████| 10950/10950 [2:51:48<00:00,  1.06it/s, Loss=0.753, Accuracy=0.688]\n"
     ]
    },
    {
     "name": "stdout",
     "output_type": "stream",
     "text": [
      "Epoch 5/5\n"
     ]
    },
    {
     "name": "stderr",
     "output_type": "stream",
     "text": [
      "100%|██████████| 10950/10950 [2:51:39<00:00,  1.06it/s, Loss=0.426, Accuracy=0.733]\n"
     ]
    }
   ],
   "source": [
    "# Training\n",
    "import numpy as np\n",
    "from torch.utils.data import DataLoader\n",
    "\n",
    "# Set the number of epoch\n",
    "epoch = 5\n",
    "\n",
    "# Start training\n",
    "model.train()\n",
    "\n",
    "train_loss = list()\n",
    "train_accuracies = list()\n",
    "for epoch_i in range(epoch):\n",
    "    print('Epoch %s/%s' % (epoch_i + 1, epoch))\n",
    "    time.sleep(0.3)\n",
    "\n",
    "    # Get training data by DataLoader\n",
    "    train_loader = DataLoader(train_dataset, batch_size=8, shuffle=True)\n",
    "    \n",
    "    correct = 0\n",
    "    count = 0\n",
    "    epoch_loss = list()\n",
    "    \n",
    "    pbar = tqdm(train_loader)\n",
    "    for batch in pbar:\n",
    "        optim.zero_grad()\n",
    "        input_ids = batch['input_ids'].to(device)\n",
    "        attention_mask = batch['attention_mask'].to(device)\n",
    "        start_positions = batch['start_positions'].to(device)\n",
    "        end_positions = batch['end_positions'].to(device)\n",
    "        labels = batch['labels']\n",
    "        outputs = model(input_ids, attention_mask=attention_mask, start_positions=start_positions, end_positions=end_positions)\n",
    "        loss = outputs['loss']\n",
    "        loss.backward()\n",
    "        optim.step()\n",
    "        \n",
    "        # make predictions\n",
    "        predictions = predict(batch, outputs)\n",
    "\n",
    "        # count accuracy\n",
    "        correct += np.sum(np.array(predictions) == np.array(labels))\n",
    "        count += len(labels)\n",
    "        accuracy = correct * 1.0 / count\n",
    "\n",
    "        # show progress along with metrics\n",
    "        pbar.set_postfix({\n",
    "            'Loss': '{:.3f}'.format(loss.item()),\n",
    "            'Accuracy': '{:.3f}'.format(accuracy)\n",
    "        })\n",
    "        \n",
    "        # record the loss for each batch\n",
    "        epoch_loss.append(loss.item())\n",
    "        \n",
    "    pbar.close()\n",
    "    \n",
    "    # record the loss and accuracy for each epoch\n",
    "    train_loss += epoch_loss\n",
    "    train_accuracies.append(accuracy)"
   ]
  },
  {
   "cell_type": "markdown",
   "id": "73570504",
   "metadata": {},
   "source": [
    "Visualise the training loss and accuracy."
   ]
  },
  {
   "cell_type": "code",
   "execution_count": 13,
   "id": "2a5024d8",
   "metadata": {},
   "outputs": [
    {
     "data": {
      "image/png": "[encoded data removed]",
      "text/plain": [
       "<Figure size 432x288 with 1 Axes>"
      ]
     },
     "metadata": {
      "needs_background": "light"
     },
     "output_type": "display_data"
    },
    {
     "data": {
      "image/png": "[encoded data removed]",
      "text/plain": [
       "<Figure size 432x288 with 1 Axes>"
      ]
     },
     "metadata": {
      "needs_background": "light"
     },
     "output_type": "display_data"
    }
   ],
   "source": [
    "import matplotlib.pyplot as plt\n",
    "import numpy as np\n",
    "\n",
    "# Plot Iteration vs Training Loss\n",
    "plt.plot(train_loss, label=\"Training Loss\")\n",
    "plt.xlabel(\"Iteration\")\n",
    "plt.ylabel(\"Loss\")\n",
    "plt.title(\"Iteration vs Training Loss\")  \n",
    "plt.legend()\n",
    "plt.show()\n",
    "\n",
    "# Plot Epoch vs Training Accuracy\n",
    "acc_X = np.arange(len(train_accuracies))+1                          \n",
    "plt.plot(acc_X, train_accuracies,\"-\", label=\"Training Accuracy\")\n",
    "plt.xticks(acc_X)\n",
    "plt.xlabel(\"Epoch\")\n",
    "plt.ylabel(\"Accuracy\")\n",
    "plt.title(\"Epoch vs Training Accuracy\")  \n",
    "plt.legend()\n",
    "plt.show()"
   ]
  },
  {
   "cell_type": "markdown",
   "id": "f551bdd1",
   "metadata": {},
   "source": [
    "## 5. Testing"
   ]
  },
  {
   "cell_type": "markdown",
   "id": "e0763dff",
   "metadata": {},
   "source": [
    "Test the model."
   ]
  },
  {
   "cell_type": "code",
   "execution_count": 17,
   "id": "7980c474",
   "metadata": {},
   "outputs": [
    {
     "name": "stderr",
     "output_type": "stream",
     "text": [
      "100%|██████████| 34725/34725 [25:17<00:00, 22.88it/s, loss=6.279, accuracy=0.520] \n"
     ]
    },
    {
     "name": "stdout",
     "output_type": "stream",
     "text": [
      "The final accuracy on the test dataset: 52.0029%\n"
     ]
    }
   ],
   "source": [
    "# Testing\n",
    "from torch.utils.data import DataLoader\n",
    "\n",
    "# Get test data by DataLoader\n",
    "test_loader = DataLoader(val_dataset, batch_size=1, shuffle=False)\n",
    "\n",
    "# Start testing\n",
    "model.eval()\n",
    "\n",
    "with torch.no_grad():\n",
    "    \n",
    "    correct = 0\n",
    "    count = 0\n",
    "    record = {\"labels\":list(), \"predictions\":list()}\n",
    "    \n",
    "    pbar = tqdm(test_loader)\n",
    "    for batch in pbar:\n",
    "        input_ids = batch['input_ids'].to(device)\n",
    "        attention_mask = batch['attention_mask'].to(device)\n",
    "        start_positions = batch['start_positions'].to(device)\n",
    "        end_positions = batch['end_positions'].to(device)\n",
    "        labels = batch['labels']\n",
    "        outputs = model(input_ids, attention_mask=attention_mask, start_positions=start_positions, end_positions=end_positions)\n",
    "        loss = outputs['loss']\n",
    "        \n",
    "        # make predictions\n",
    "        predictions = predict(batch, outputs)\n",
    "\n",
    "        # count accuracy\n",
    "        correct += np.sum(np.array(predictions) == np.array(labels))\n",
    "        count += len(labels)\n",
    "        accuracy = correct * 1.0 / count\n",
    "\n",
    "        # show progress along with metrics\n",
    "        pbar.set_postfix({\n",
    "            'loss': '{:.3f}'.format(loss.item()),\n",
    "            'accuracy': '{:.3f}'.format(accuracy)\n",
    "        })\n",
    "    \n",
    "        # record the results\n",
    "        record[\"labels\"] += labels\n",
    "        record[\"predictions\"] += predictions\n",
    "        \n",
    "    pbar.close()\n",
    "    \n",
    "time.sleep(0.3)\n",
    "print(\"The final accuracy on the test dataset: %s%%\" % round(accuracy*100,4))"
   ]
  },
  {
   "cell_type": "markdown",
   "id": "4b9f4b0a",
   "metadata": {},
   "source": [
    "Check the result."
   ]
  },
  {
   "cell_type": "code",
   "execution_count": 18,
   "id": "2e8c9c4b",
   "metadata": {},
   "outputs": [
    {
     "data": {
      "text/html": [
       "<div>\n",
       "<style scoped>\n",
       "    .dataframe tbody tr th:only-of-type {\n",
       "        vertical-align: middle;\n",
       "    }\n",
       "\n",
       "    .dataframe tbody tr th {\n",
       "        vertical-align: top;\n",
       "    }\n",
       "\n",
       "    .dataframe thead th {\n",
       "        text-align: right;\n",
       "    }\n",
       "</style>\n",
       "<table border=\"1\" class=\"dataframe\">\n",
       "  <thead>\n",
       "    <tr style=\"text-align: right;\">\n",
       "      <th></th>\n",
       "      <th>Ground Truth</th>\n",
       "      <th>Model Prediction</th>\n",
       "    </tr>\n",
       "  </thead>\n",
       "  <tbody>\n",
       "    <tr>\n",
       "      <th>7</th>\n",
       "      <td>levi's stadium</td>\n",
       "      <td>santa clara, california</td>\n",
       "    </tr>\n",
       "    <tr>\n",
       "      <th>8</th>\n",
       "      <td>levi's stadium in the san francisco bay area a...</td>\n",
       "      <td>santa clara, california</td>\n",
       "    </tr>\n",
       "    <tr>\n",
       "      <th>15</th>\n",
       "      <td>\"golden anniversary\"</td>\n",
       "      <td>golden anniversary \"</td>\n",
       "    </tr>\n",
       "    <tr>\n",
       "      <th>16</th>\n",
       "      <td>gold-themed</td>\n",
       "      <td>golden anniversary \"</td>\n",
       "    </tr>\n",
       "    <tr>\n",
       "      <th>17</th>\n",
       "      <td>\"golden anniversary</td>\n",
       "      <td>golden anniversary \"</td>\n",
       "    </tr>\n",
       "    <tr>\n",
       "      <th>...</th>\n",
       "      <td>...</td>\n",
       "      <td>...</td>\n",
       "    </tr>\n",
       "    <tr>\n",
       "      <th>34720</th>\n",
       "      <td>kip</td>\n",
       "      <td>metric slug</td>\n",
       "    </tr>\n",
       "    <tr>\n",
       "      <th>34721</th>\n",
       "      <td>sthène</td>\n",
       "      <td>the metric slug</td>\n",
       "    </tr>\n",
       "    <tr>\n",
       "      <th>34722</th>\n",
       "      <td>sthène</td>\n",
       "      <td>the metric slug</td>\n",
       "    </tr>\n",
       "    <tr>\n",
       "      <th>34723</th>\n",
       "      <td>sthène</td>\n",
       "      <td>the metric slug</td>\n",
       "    </tr>\n",
       "    <tr>\n",
       "      <th>34724</th>\n",
       "      <td>sthène</td>\n",
       "      <td>the metric slug</td>\n",
       "    </tr>\n",
       "  </tbody>\n",
       "</table>\n",
       "<p>16667 rows × 2 columns</p>\n",
       "</div>"
      ],
      "text/plain": [
       "                                            Ground Truth  \\\n",
       "7                                         levi's stadium   \n",
       "8      levi's stadium in the san francisco bay area a...   \n",
       "15                                  \"golden anniversary\"   \n",
       "16                                           gold-themed   \n",
       "17                                   \"golden anniversary   \n",
       "...                                                  ...   \n",
       "34720                                                kip   \n",
       "34721                                             sthène   \n",
       "34722                                             sthène   \n",
       "34723                                             sthène   \n",
       "34724                                             sthène   \n",
       "\n",
       "              Model Prediction  \n",
       "7      santa clara, california  \n",
       "8      santa clara, california  \n",
       "15        golden anniversary \"  \n",
       "16        golden anniversary \"  \n",
       "17        golden anniversary \"  \n",
       "...                        ...  \n",
       "34720              metric slug  \n",
       "34721          the metric slug  \n",
       "34722          the metric slug  \n",
       "34723          the metric slug  \n",
       "34724          the metric slug  \n",
       "\n",
       "[16667 rows x 2 columns]"
      ]
     },
     "execution_count": 18,
     "metadata": {},
     "output_type": "execute_result"
    }
   ],
   "source": [
    "# Convert test record to a pandas DataFrame object\n",
    "import pandas as pd\n",
    "from pandas.core.frame import DataFrame\n",
    "df = DataFrame(record)\n",
    "df.columns = [\"Ground Truth\",\"Model Prediction\"]\n",
    "\n",
    "# Show test result\n",
    "# pd.set_option('display.max_rows', None)    # Display all rows\n",
    "# df\n",
    "\n",
    "# Show incorrect predictions \n",
    "df[df[\"Ground Truth\"]!=df[\"Model Prediction\"]]"
   ]
  },
  {
   "cell_type": "markdown",
   "id": "cf735691",
   "metadata": {},
   "source": [
    "## Manual Test\n",
    "Now, let's have a manual test on this trained model.  \n",
    "\n",
    "First, you need to input a context and a question. Then, our trained model will predict the answer. In this way, we can check the performance of the model.\n",
    "\n",
    "To perform a manual test, please run the following code block."
   ]
  },
  {
   "cell_type": "code",
   "execution_count": 21,
   "id": "77e00f96",
   "metadata": {},
   "outputs": [
    {
     "name": "stdout",
     "output_type": "stream",
     "text": [
      "Let's start our manual test.\n",
      "\n",
      "Context:\n",
      "Tom is 15 years old.\n",
      "\n",
      "Question:\n",
      "How old is Tom?\n",
      "\n",
      "Answer:\n",
      "15\n",
      "\n",
      "Try again? y/n\n",
      "n\n"
     ]
    }
   ],
   "source": [
    "\"\"\"\n",
    "- Manual Test -\n",
    "\n",
    "Input a context and a question. Then, our trained model will predict the answer.\n",
    "\n",
    "Example：\n",
    "Input Context: \"Tom is 15 years old.\"\n",
    "Input Question: \"How old is Tom?\"\n",
    "Expect: 15\n",
    "\n",
    "\"\"\"\n",
    "\n",
    "manual_test = True\n",
    "count = 1\n",
    "print(\"Let's start our manual test.\\n\")\n",
    "time.sleep(0.3)\n",
    "while(manual_test):\n",
    "    \n",
    "    context = input(\"Context:\\n\")\n",
    "    print()\n",
    "    question = input(\"Question:\\n\")\n",
    "\n",
    "    # Tokenization\n",
    "    inputs = tokenizer(context, question, return_tensors=\"pt\").to(device)\n",
    "    \n",
    "    # Model makes its prediction\n",
    "    outputs = model(**inputs)\n",
    "    prediction = predict(inputs, outputs)\n",
    "\n",
    "    # Check the performance\n",
    "    print(\"\\nAnswer:\\n%s\\n\" % prediction[0])\n",
    "    \n",
    "    manual_test = input(\"Try again? y/n\\n\")==\"y\"\n",
    "    if manual_test:\n",
    "        count = count + 1\n",
    "        print(\"--------------------------------------- %s ---------------------------------------\" % count)"
   ]
  }
 ],
 "metadata": {
  "kernelspec": {
   "display_name": "Python 3",
   "language": "python",
   "name": "python3"
  },
  "language_info": {
   "codemirror_mode": {
    "name": "ipython",
    "version": 3
   },
   "file_extension": ".py",
   "mimetype": "text/x-python",
   "name": "python",
   "nbconvert_exporter": "python",
   "pygments_lexer": "ipython3",
   "version": "3.8.8"
  }
 },
 "nbformat": 4,
 "nbformat_minor": 5
}
